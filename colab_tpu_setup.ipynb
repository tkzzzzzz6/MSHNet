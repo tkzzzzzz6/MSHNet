{
  "cells": [
    {
      "cell_type": "markdown",
      "metadata": {},
      "source": [
        "# MSHNet - Google Colab TPU 训练脚本\n",
        "## 红外小目标检测 - TPU加速版本\n",
        "\n",
        "### 📌 TPU配置步骤：\n",
        "1. **选择TPU运行时**：运行时 → 更改运行时类型 → 硬件加速器 → TPU\n",
        "2. **TPU版本**：TPU v2-8（8个核心）或 TPU v3-8\n",
        "3. **内存优势**：TPU通常有更大的内存带宽\n",
        "4. **注意事项**：TPU需要PyTorch XLA库\n",
        "\n",
        "### ⚠️ 重要提示：\n",
        "- TPU训练速度可能比A100快2-3倍\n",
        "- 需要安装torch_xla库\n",
        "- 数据加载和模型保存有特殊要求\n",
        "- 首次编译可能需要较长时间\n"
      ]
    },
    {
      "cell_type": "markdown",
      "metadata": {},
      "source": [
        "## 1. 安装TPU所需的库\n"
      ]
    },
    {
      "cell_type": "code",
      "execution_count": null,
      "metadata": {},
      "outputs": [],
      "source": [
        "# 安装PyTorch XLA（TPU支持库）\n",
        "import sys\n",
        "!pip install -q cloud-tpu-client torch-xla torchvision\n",
        "\n",
        "# 验证TPU安装\n",
        "import torch\n",
        "import torch_xla\n",
        "import torch_xla.core.xla_model as xm\n",
        "\n",
        "print(f'PyTorch版本: {torch.__version__}')\n",
        "print(f'XLA版本: {torch_xla.__version__}')\n",
        "\n",
        "# 检查TPU设备\n",
        "device = xm.xla_device()\n",
        "print(f'TPU设备: {device}')\n",
        "print(f'TPU核心数: {xm.xrt_world_size()}')\n"
      ]
    },
    {
      "cell_type": "markdown",
      "metadata": {},
      "source": [
        "## 2. 克隆项目并安装依赖\n"
      ]
    },
    {
      "cell_type": "code",
      "execution_count": null,
      "metadata": {},
      "outputs": [],
      "source": [
        "# 克隆项目\n",
        "!git clone https://github.com/your-username/MSHNet.git\n",
        "%cd MSHNet\n",
        "\n",
        "# 安装其他依赖\n",
        "!pip install -q scikit-image tqdm\n",
        "\n",
        "print('✓ 所有依赖安装完成')\n"
      ]
    },
    {
      "cell_type": "markdown",
      "metadata": {},
      "source": [
        "## 3. 准备数据集\n"
      ]
    },
    {
      "cell_type": "code",
      "execution_count": null,
      "metadata": {},
      "outputs": [],
      "source": [
        "# 挂载Google Drive\n",
        "from google.colab import drive\n",
        "drive.mount('/content/drive')\n",
        "\n",
        "# 链接数据集\n",
        "!mkdir -p datasets\n",
        "!ln -s /content/drive/MyDrive/datasets/IRSTD-1k ./datasets/IRSTD-1k\n",
        "\n",
        "# 检查数据集\n",
        "!ls -lh datasets/IRSTD-1k/\n"
      ]
    },
    {
      "cell_type": "markdown",
      "metadata": {},
      "source": [
        "## 4. 使用TPU训练（推荐batch_size=32）\n"
      ]
    },
    {
      "cell_type": "code",
      "execution_count": null,
      "metadata": {},
      "outputs": [],
      "source": [
        "# 使用TPU训练（需要使用main_tpu.py）\n",
        "!python main_tpu.py \\\n",
        "    --dataset-dir './datasets/IRSTD-1k' \\\n",
        "    --batch-size 32 \\\n",
        "    --epochs 400 \\\n",
        "    --lr 0.05 \\\n",
        "    --mode train \\\n",
        "    --use-tpu \\\n",
        "    --num-cores 8\n",
        "\n",
        "# 注意：\n",
        "# 1. batch-size可以设置为32，TPU内存更大\n",
        "# 2. --use-tpu 启用TPU训练\n",
        "# 3. --num-cores 8 使用8个TPU核心\n"
      ]
    }
  ],
  "metadata": {
    "language_info": {
      "name": "python"
    }
  },
  "nbformat": 4,
  "nbformat_minor": 2
}
