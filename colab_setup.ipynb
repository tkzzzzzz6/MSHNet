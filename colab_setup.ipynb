{
  "cells": [
    {
      "cell_type": "markdown",
      "metadata": {},
      "source": [
        "# MSHNet - Google Colab A100 训练脚本\n",
        "## 红外小目标检测 - 尺度和位置敏感性\n",
        "\n",
        "### 📌 注意事项：\n",
        "1. **选择A100 GPU**：运行时 → 更改运行时类型 → 硬件加速器 → GPU (A100)\n",
        "2. **数据集准备**：确保已上传数据集或使用Google Drive挂载\n",
        "3. **A100优势**：40GB显存，可以使用更大的batch size\n",
        "4. **会话时长**：Colab Pro有更长的会话时间，建议使用\n",
        "\n",
        "### ⚠️ 重要提示：\n",
        "- 定期保存权重到Google Drive\n",
        "- 使用checkpoint功能避免训练中断\n",
        "- 监控GPU使用情况\n"
      ]
    },
    {
      "cell_type": "markdown",
      "metadata": {},
      "source": [
        "## 1. 检查GPU信息\n"
      ]
    },
    {
      "cell_type": "code",
      "execution_count": null,
      "metadata": {},
      "outputs": [],
      "source": [
        "# 检查GPU信息\n",
        "!nvidia-smi\n",
        "print('\\n' + '='*50)\n",
        "\n",
        "import torch\n",
        "print(f'PyTorch版本: {torch.__version__}')\n",
        "print(f'CUDA可用: {torch.cuda.is_available()}')\n",
        "print(f'CUDA版本: {torch.version.cuda}')\n",
        "print(f'GPU数量: {torch.cuda.device_count()}')\n",
        "if torch.cuda.is_available():\n",
        "    print(f'GPU名称: {torch.cuda.get_device_name(0)}')\n",
        "    print(f'GPU内存: {torch.cuda.get_device_properties(0).total_memory / 1024**3:.2f} GB')\n"
      ]
    },
    {
      "cell_type": "markdown",
      "metadata": {},
      "source": [
        "## 2. 克隆项目代码\n"
      ]
    },
    {
      "cell_type": "code",
      "execution_count": null,
      "metadata": {},
      "outputs": [],
      "source": [
        "# 方法1: 克隆GitHub仓库（替换为您的仓库地址）\n",
        "!git clone https://github.com/your-username/MSHNet.git\n",
        "%cd MSHNet\n",
        "\n",
        "# 方法2: 从Google Drive复制项目\n",
        "# from google.colab import drive\n",
        "# drive.mount('/content/drive')\n",
        "# !cp -r /content/drive/MyDrive/MSHNet /content/\n",
        "# %cd /content/MSHNet\n"
      ]
    },
    {
      "cell_type": "markdown",
      "metadata": {},
      "source": [
        "## 3. 安装依赖\n"
      ]
    },
    {
      "cell_type": "code",
      "execution_count": null,
      "metadata": {},
      "outputs": [],
      "source": [
        "# 安装必要的依赖包（Colab已预装PyTorch）\n",
        "!pip install -q scikit-image tqdm\n",
        "\n",
        "# 验证所有依赖\n",
        "import numpy as np\n",
        "import torch\n",
        "from PIL import Image\n",
        "from skimage import measure\n",
        "from tqdm import tqdm\n",
        "print('✓ 所有依赖安装成功！')\n"
      ]
    },
    {
      "cell_type": "markdown",
      "metadata": {},
      "source": [
        "## 4. 挂载Google Drive并准备数据集\n"
      ]
    },
    {
      "cell_type": "code",
      "execution_count": null,
      "metadata": {},
      "outputs": [],
      "source": [
        "# 挂载Google Drive\n",
        "from google.colab import drive\n",
        "drive.mount('/content/drive')\n",
        "\n",
        "# 如果数据集已在Drive中，创建软链接\n",
        "!mkdir -p datasets\n",
        "!ln -s /content/drive/MyDrive/datasets/IRSTD-1k ./datasets/IRSTD-1k\n",
        "\n",
        "# 或者解压数据集\n",
        "# !tar -xzf /content/drive/MyDrive/IRSTD-1k.tar.gz -C ./datasets/\n",
        "\n",
        "# 检查数据集结构\n",
        "!ls -lh datasets/IRSTD-1k/\n"
      ]
    },
    {
      "cell_type": "markdown",
      "metadata": {},
      "source": [
        "## 5. 开始训练（A100优化参数）\n"
      ]
    },
    {
      "cell_type": "code",
      "execution_count": null,
      "metadata": {},
      "outputs": [],
      "source": [
        "# A100优化训练参数\n",
        "!python main.py \\\n",
        "    --dataset-dir './datasets/IRSTD-1k' \\\n",
        "    --batch-size 16 \\\n",
        "    --epochs 400 \\\n",
        "    --lr 0.05 \\\n",
        "    --base-size 256 \\\n",
        "    --crop-size 256 \\\n",
        "    --warm-epoch 5 \\\n",
        "    --mode train\n",
        "\n",
        "# 注意：batch-size从4增加到16，充分利用A100的40GB显存\n"
      ]
    },
    {
      "cell_type": "markdown",
      "metadata": {},
      "source": [
        "## 6. 定期保存权重到Google Drive\n"
      ]
    },
    {
      "cell_type": "code",
      "execution_count": null,
      "metadata": {},
      "outputs": [],
      "source": [
        "# 创建保存目录并复制权重\n",
        "!mkdir -p /content/drive/MyDrive/MSHNet_results\n",
        "\n",
        "# 复制最新的权重文件\n",
        "!cp -r /MSHNet/weight/* /content/drive/MyDrive/MSHNet_results/\n",
        "\n",
        "# 打包所有权重文件\n",
        "!tar -czf /content/drive/MyDrive/MSHNet_results/weights_backup.tar.gz /MSHNet/weight/\n",
        "\n",
        "print('✓ 权重已保存到Google Drive')\n"
      ]
    },
    {
      "cell_type": "markdown",
      "metadata": {},
      "source": [
        "## 7. 测试模型\n"
      ]
    },
    {
      "cell_type": "code",
      "execution_count": null,
      "metadata": {},
      "outputs": [],
      "source": [
        "# 使用训练好的权重进行测试\n",
        "!python main.py \\\n",
        "    --dataset-dir './datasets/IRSTD-1k' \\\n",
        "    --batch-size 1 \\\n",
        "    --mode test \\\n",
        "    --weight-path './IRSTD-1k_weight.tar'\n"
      ]
    },
    {
      "cell_type": "markdown",
      "metadata": {},
      "source": [
        "## 8. 监控训练进度（可选）\n"
      ]
    },
    {
      "cell_type": "code",
      "execution_count": null,
      "metadata": {},
      "outputs": [],
      "source": [
        "# 实时查看训练日志\n",
        "import glob\n",
        "import os\n",
        "\n",
        "# 找到最新的训练目录\n",
        "weight_dirs = glob.glob('./weight/MSHNet-*')\n",
        "if weight_dirs:\n",
        "    latest_dir = max(weight_dirs, key=os.path.getctime)\n",
        "    print(f'最新训练目录: {latest_dir}')\n",
        "    \n",
        "    # 查看训练日志\n",
        "    log_file = os.path.join(latest_dir, 'metric.log')\n",
        "    if os.path.exists(log_file):\n",
        "        print('\\n最近10条训练记录：')\n",
        "        !tail -10 {log_file}\n",
        "else:\n",
        "    print('未找到训练目录')\n"
      ]
    }
  ],
  "metadata": {
    "language_info": {
      "name": "python"
    }
  },
  "nbformat": 4,
  "nbformat_minor": 2
}
